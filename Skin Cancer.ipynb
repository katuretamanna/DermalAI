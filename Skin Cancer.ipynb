{
 "cells": [
  {
   "cell_type": "code",
   "execution_count": 1,
   "metadata": {
    "executionInfo": {
     "elapsed": 5526,
     "status": "ok",
     "timestamp": 1709280697599,
     "user": {
      "displayName": "Prithiviraj Karupaya",
      "userId": "01950334870233105663"
     },
     "user_tz": -330
    },
    "id": "K5kKvYPREPaJ"
   },
   "outputs": [],
   "source": [
    "import os\n",
    "from PIL import Image\n",
    "import numpy as np\n",
    "import pandas as pd\n",
    "import seaborn as sns\n",
    "import matplotlib.pyplot as plt\n",
    "import itertools\n",
    "\n",
    "from sklearn.model_selection import train_test_split\n",
    "from sklearn.metrics import confusion_matrix, classification_report\n",
    "\n",
    "import tensorflow as tf\n",
    "from tensorflow.keras.layers import *\n",
    "from tensorflow.keras.models import Sequential\n",
    "from tensorflow.keras.optimizers import Adamax\n",
    "from tensorflow.keras.preprocessing.image import ImageDataGenerator\n",
    "from tensorflow.keras.applications.efficientnet import EfficientNetB3\n",
    "\n",
    "import warnings\n",
    "warnings.filterwarnings(\"ignore\")"
   ]
  },
  {
   "cell_type": "code",
   "execution_count": 2,
   "metadata": {
    "executionInfo": {
     "elapsed": 2,
     "status": "ok",
     "timestamp": 1709280729341,
     "user": {
      "displayName": "Prithiviraj Karupaya",
      "userId": "01950334870233105663"
     },
     "user_tz": -330
    },
    "id": "_-ZPAC_TEatA"
   },
   "outputs": [],
   "source": [
    "def train_df(tr_path):\n",
    "    classes = []\n",
    "    class_paths = []\n",
    "    files = os.listdir(tr_path)\n",
    "    for file in files:\n",
    "        label_dir = os.path.join(tr_path, file)\n",
    "        label = os.listdir(label_dir)\n",
    "        for image in label:\n",
    "            image_path = os.path.join(label_dir, image)\n",
    "            class_paths.append(image_path)\n",
    "            classes.append(file)\n",
    "    image_classes = pd.Series(classes, name='Class')\n",
    "    image_paths = pd.Series(class_paths, name='Class Path')\n",
    "    tr_df = pd.concat([image_paths, image_classes], axis=1)\n",
    "    return tr_df\n",
    "\n",
    "def test_df(test_path):\n",
    "    classes = []\n",
    "    class_paths = []\n",
    "    files = os.listdir(test_path)\n",
    "    for file in files:\n",
    "        label_dir = os.path.join(test_path, file)\n",
    "        label = os.listdir(label_dir)\n",
    "        for image in label:\n",
    "            image_path = os.path.join(label_dir, image)\n",
    "            class_paths.append(image_path)\n",
    "            classes.append(file)\n",
    "    image_classes = pd.Series(classes, name='Class')\n",
    "    image_paths = pd.Series(class_paths, name='Class Path')\n",
    "    ts_df = pd.concat([image_paths, image_classes], axis=1)\n",
    "    return ts_df"
   ]
  },
  {
   "cell_type": "code",
   "execution_count": 7,
   "metadata": {
    "executionInfo": {
     "elapsed": 10061,
     "status": "ok",
     "timestamp": 1709281008256,
     "user": {
      "displayName": "Prithiviraj Karupaya",
      "userId": "01950334870233105663"
     },
     "user_tz": -330
    },
    "id": "RScbxAlFEkBf"
   },
   "outputs": [],
   "source": [
    "tr_df = train_df('skinCancerData/train')\n",
    "ts_df = train_df('Skin Cancer Detect/skinCancerData/test')"
   ]
  },
  {
   "cell_type": "code",
   "execution_count": 10,
   "metadata": {
    "executionInfo": {
     "elapsed": 551,
     "status": "ok",
     "timestamp": 1709281061271,
     "user": {
      "displayName": "Prithiviraj Karupaya",
      "userId": "01950334870233105663"
     },
     "user_tz": -330
    },
    "id": "HtZRVEp3FnLr"
   },
   "outputs": [],
   "source": [
    "valid_df, ts_df = train_test_split(ts_df,  train_size= 0.5, shuffle= True, random_state= 20)"
   ]
  },
  {
   "cell_type": "code",
   "execution_count": 9,
   "metadata": {
    "colab": {
     "base_uri": "https://localhost:8080/"
    },
    "executionInfo": {
     "elapsed": 530,
     "status": "ok",
     "timestamp": 1709281042031,
     "user": {
      "displayName": "Prithiviraj Karupaya",
      "userId": "01950334870233105663"
     },
     "user_tz": -330
    },
    "id": "xO2_BZq6FqRJ",
    "outputId": "8117eb1f-8498-42df-ccc1-585baa413dfc"
   },
   "outputs": [
    {
     "name": "stdout",
     "output_type": "stream",
     "text": [
      "Found 2637 validated image filenames belonging to 2 classes.\n",
      "Found 330 validated image filenames belonging to 2 classes.\n",
      "Found 330 validated image filenames belonging to 2 classes.\n"
     ]
    }
   ],
   "source": [
    "batch_size = 16\n",
    "img_size = (224, 224)\n",
    "channels = 3\n",
    "img_shape = (224, 224, 3)\n",
    "\n",
    "gen = ImageDataGenerator()\n",
    "\n",
    "tr_gen = gen.flow_from_dataframe(tr_df, x_col= 'Class Path', y_col= 'Class', target_size= img_size,\n",
    "                                    color_mode= 'rgb', shuffle= True, batch_size= batch_size)\n",
    "\n",
    "valid_gen = gen.flow_from_dataframe(valid_df, x_col= 'Class Path', y_col= 'Class', target_size= img_size,\n",
    "                                    color_mode= 'rgb', shuffle= True, batch_size= batch_size)\n",
    "\n",
    "ts_gen = gen.flow_from_dataframe(ts_df, x_col= 'Class Path', y_col= 'Class', target_size= img_size,\n",
    "                                    color_mode= 'rgb', shuffle= False, batch_size= batch_size)"
   ]
  },
  {
   "cell_type": "code",
   "execution_count": 11,
   "metadata": {
    "colab": {
     "base_uri": "https://localhost:8080/",
     "height": 1000,
     "output_embedded_package_id": "1i8EblD1rh1mPJdBNmcVP4rbiW7fm8sJb"
    },
    "executionInfo": {
     "elapsed": 14522,
     "status": "ok",
     "timestamp": 1709281079268,
     "user": {
      "displayName": "Prithiviraj Karupaya",
      "userId": "01950334870233105663"
     },
     "user_tz": -330
    },
    "id": "eu8_rl9SFvPh",
    "outputId": "2fe93422-b193-4f37-d968-f6183b07e827"
   },
   "outputs": [
    {
     "data": {
      "text/plain": [
       "Output hidden; open in https://colab.research.google.com to view."
      ]
     },
     "metadata": {},
     "output_type": "display_data"
    }
   ],
   "source": [
    "g_dict = tr_gen.class_indices\n",
    "classes = list(g_dict.keys())\n",
    "images, labels = next(tr_gen)\n",
    "\n",
    "plt.figure(figsize= (20, 20))\n",
    "\n",
    "for i in range(16):\n",
    "    plt.subplot(4, 4, i + 1)\n",
    "    image = images[i] / 255\n",
    "    plt.imshow(image)\n",
    "    index = np.argmax(labels[i])\n",
    "    class_name = classes[index]\n",
    "    plt.title(class_name, color= 'blue', fontsize= 12)\n",
    "    plt.axis('off')\n",
    "plt.show()"
   ]
  },
  {
   "cell_type": "code",
   "execution_count": 12,
   "metadata": {
    "executionInfo": {
     "elapsed": 458,
     "status": "ok",
     "timestamp": 1709281101071,
     "user": {
      "displayName": "Prithiviraj Karupaya",
      "userId": "01950334870233105663"
     },
     "user_tz": -330
    },
    "id": "0HsvEcOgF0bR"
   },
   "outputs": [],
   "source": [
    "# Define the CNN model\n",
    "cnn_model = Sequential([\n",
    "    Conv2D(32, (3, 3), activation='relu', input_shape=img_shape),\n",
    "    MaxPooling2D((2, 2)),\n",
    "    Conv2D(64, (3, 3), activation='relu'),\n",
    "    MaxPooling2D((2, 2)),\n",
    "    Conv2D(128, (3, 3), activation='relu'),\n",
    "    MaxPooling2D((2, 2)),\n",
    "    Flatten(),\n",
    "    Dense(256, activation='relu'),\n",
    "    Dropout(rate=0.4, seed=20),\n",
    "    Dense(2, activation='softmax')\n",
    "])"
   ]
  },
  {
   "cell_type": "code",
   "execution_count": 13,
   "metadata": {
    "colab": {
     "base_uri": "https://localhost:8080/"
    },
    "executionInfo": {
     "elapsed": 433,
     "status": "ok",
     "timestamp": 1709281102876,
     "user": {
      "displayName": "Prithiviraj Karupaya",
      "userId": "01950334870233105663"
     },
     "user_tz": -330
    },
    "id": "QTTtrlpjF41K",
    "outputId": "df57a703-0521-42ea-d604-d4886e4c4672"
   },
   "outputs": [
    {
     "name": "stdout",
     "output_type": "stream",
     "text": [
      "Model: \"sequential\"\n",
      "_________________________________________________________________\n",
      " Layer (type)                Output Shape              Param #   \n",
      "=================================================================\n",
      " conv2d (Conv2D)             (None, 222, 222, 32)      896       \n",
      "                                                                 \n",
      " max_pooling2d (MaxPooling2  (None, 111, 111, 32)      0         \n",
      " D)                                                              \n",
      "                                                                 \n",
      " conv2d_1 (Conv2D)           (None, 109, 109, 64)      18496     \n",
      "                                                                 \n",
      " max_pooling2d_1 (MaxPoolin  (None, 54, 54, 64)        0         \n",
      " g2D)                                                            \n",
      "                                                                 \n",
      " conv2d_2 (Conv2D)           (None, 52, 52, 128)       73856     \n",
      "                                                                 \n",
      " max_pooling2d_2 (MaxPoolin  (None, 26, 26, 128)       0         \n",
      " g2D)                                                            \n",
      "                                                                 \n",
      " flatten (Flatten)           (None, 86528)             0         \n",
      "                                                                 \n",
      " dense (Dense)               (None, 256)               22151424  \n",
      "                                                                 \n",
      " dropout (Dropout)           (None, 256)               0         \n",
      "                                                                 \n",
      " dense_1 (Dense)             (None, 2)                 514       \n",
      "                                                                 \n",
      "=================================================================\n",
      "Total params: 22245186 (84.86 MB)\n",
      "Trainable params: 22245186 (84.86 MB)\n",
      "Non-trainable params: 0 (0.00 Byte)\n",
      "_________________________________________________________________\n"
     ]
    }
   ],
   "source": [
    "# Compile the CNN model\n",
    "cnn_model.compile(Adamax(learning_rate=0.001), loss='categorical_crossentropy', metrics=['accuracy'])\n",
    "\n",
    "# Display the summary of the CNN model\n",
    "cnn_model.summary()"
   ]
  },
  {
   "cell_type": "code",
   "execution_count": 17,
   "metadata": {
    "colab": {
     "base_uri": "https://localhost:8080/"
    },
    "executionInfo": {
     "elapsed": 2681945,
     "status": "ok",
     "timestamp": 1709283983093,
     "user": {
      "displayName": "Prithiviraj Karupaya",
      "userId": "01950334870233105663"
     },
     "user_tz": -330
    },
    "id": "cww6bXmpF9RL",
    "outputId": "a6f37faa-80a2-420c-dcd7-ceec728fff66"
   },
   "outputs": [
    {
     "name": "stdout",
     "output_type": "stream",
     "text": [
      "Epoch 1/25\n",
      "165/165 [==============================] - 598s 4s/step - loss: 35.7481 - accuracy: 0.7042 - val_loss: 0.4271 - val_accuracy: 0.8061\n",
      "Epoch 2/25\n",
      "165/165 [==============================] - 350s 2s/step - loss: 0.4563 - accuracy: 0.7819 - val_loss: 0.4076 - val_accuracy: 0.8091\n",
      "Epoch 3/25\n",
      "165/165 [==============================] - 328s 2s/step - loss: 0.3955 - accuracy: 0.8108 - val_loss: 0.3923 - val_accuracy: 0.8030\n",
      "Epoch 4/25\n",
      "165/165 [==============================] - 337s 2s/step - loss: 0.3594 - accuracy: 0.8286 - val_loss: 0.3558 - val_accuracy: 0.8333\n",
      "Epoch 5/25\n",
      "165/165 [==============================] - 335s 2s/step - loss: 0.3326 - accuracy: 0.8536 - val_loss: 0.3501 - val_accuracy: 0.8212\n",
      "Epoch 6/25\n",
      "165/165 [==============================] - 336s 2s/step - loss: 0.2899 - accuracy: 0.8684 - val_loss: 0.3421 - val_accuracy: 0.8242\n",
      "Epoch 7/25\n",
      "165/165 [==============================] - 328s 2s/step - loss: 0.3128 - accuracy: 0.8612 - val_loss: 0.4215 - val_accuracy: 0.7939\n"
     ]
    }
   ],
   "source": [
    "from keras.callbacks import ModelCheckpoint, EarlyStopping\n",
    "\n",
    "# Train the CNN model\n",
    "history_cnn = cnn_model.fit(x=tr_gen, epochs=25, verbose=1, validation_data=valid_gen, validation_steps=None, callbacks=EarlyStopping(monitor='val_loss'))"
   ]
  },
  {
   "cell_type": "code",
   "execution_count": 18,
   "metadata": {
    "colab": {
     "base_uri": "https://localhost:8080/"
    },
    "executionInfo": {
     "elapsed": 288425,
     "status": "ok",
     "timestamp": 1709285687844,
     "user": {
      "displayName": "Prithiviraj Karupaya",
      "userId": "01950334870233105663"
     },
     "user_tz": -330
    },
    "id": "wiu2T4ePGANV",
    "outputId": "50af9ab6-02e4-4147-b603-c8304a21c542"
   },
   "outputs": [
    {
     "name": "stdout",
     "output_type": "stream",
     "text": [
      "165/165 [==============================] - 86s 516ms/step - loss: 0.2906 - accuracy: 0.8817\n",
      "21/21 [==============================] - 11s 533ms/step - loss: 0.4215 - accuracy: 0.7939\n",
      "21/21 [==============================] - 128s 6s/step - loss: 0.5565 - accuracy: 0.7879\n"
     ]
    }
   ],
   "source": [
    "# Evaluate the CNN model\n",
    "train_score_cnn = cnn_model.evaluate(tr_gen, verbose=1)\n",
    "valid_score_cnn = cnn_model.evaluate(valid_gen, verbose=1)\n",
    "test_score_cnn = cnn_model.evaluate(ts_gen, verbose=1)"
   ]
  },
  {
   "cell_type": "code",
   "execution_count": 19,
   "metadata": {
    "colab": {
     "base_uri": "https://localhost:8080/"
    },
    "executionInfo": {
     "elapsed": 1164,
     "status": "ok",
     "timestamp": 1709285692225,
     "user": {
      "displayName": "Prithiviraj Karupaya",
      "userId": "01950334870233105663"
     },
     "user_tz": -330
    },
    "id": "3olUObS7JgXc",
    "outputId": "d5d31839-5d25-432e-e2db-96e0d4ffa642"
   },
   "outputs": [
    {
     "name": "stdout",
     "output_type": "stream",
     "text": [
      "CNN Train Loss:  0.2905944883823395\n",
      "CNN Train Accuracy:  0.8816837072372437\n",
      "--------------------\n",
      "CNN Validation Loss:  0.42152145504951477\n",
      "CNN Validation Accuracy:  0.7939394116401672\n",
      "--------------------\n",
      "CNN Test Loss:  0.5564860105514526\n",
      "CNN Test Accuracy:  0.7878788113594055\n"
     ]
    }
   ],
   "source": [
    "# Print the evaluation scores for CNN\n",
    "print(\"CNN Train Loss: \", train_score_cnn[0])\n",
    "print(\"CNN Train Accuracy: \", train_score_cnn[1])\n",
    "print('-' * 20)\n",
    "print(\"CNN Validation Loss: \", valid_score_cnn[0])\n",
    "print(\"CNN Validation Accuracy: \", valid_score_cnn[1])\n",
    "print('-' * 20)\n",
    "print(\"CNN Test Loss: \", test_score_cnn[0])\n",
    "print(\"CNN Test Accuracy: \", test_score_cnn[1])"
   ]
  },
  {
   "cell_type": "code",
   "execution_count": 20,
   "metadata": {
    "colab": {
     "base_uri": "https://localhost:8080/"
    },
    "executionInfo": {
     "elapsed": 8794,
     "status": "ok",
     "timestamp": 1709285704201,
     "user": {
      "displayName": "Prithiviraj Karupaya",
      "userId": "01950334870233105663"
     },
     "user_tz": -330
    },
    "id": "oJW0mMpyJg1e",
    "outputId": "5034d1fa-ce53-453f-df2e-0b1a4638c6f1"
   },
   "outputs": [
    {
     "name": "stdout",
     "output_type": "stream",
     "text": [
      "Downloading data from https://storage.googleapis.com/keras-applications/efficientnetb3_notop.h5\n",
      "43941136/43941136 [==============================] - 0s 0us/step\n"
     ]
    }
   ],
   "source": [
    "# Define the EfficientNetB3 model\n",
    "base_model = EfficientNetB3(include_top=False, weights=\"imagenet\", input_shape=img_shape, pooling='max')\n",
    "\n",
    "model = Sequential([\n",
    "    base_model,\n",
    "    Dense(256, activation='relu'),\n",
    "    Dropout(rate=0.40, seed=20),\n",
    "    Dense(2, activation='softmax')\n",
    "])\n",
    "# Freeze layers of EfficientNetB3\n",
    "for layer in base_model.layers[:-4]:\n",
    "    layer.trainable = False"
   ]
  },
  {
   "cell_type": "code",
   "execution_count": 21,
   "metadata": {
    "colab": {
     "base_uri": "https://localhost:8080/"
    },
    "executionInfo": {
     "elapsed": 476,
     "status": "ok",
     "timestamp": 1709285762249,
     "user": {
      "displayName": "Prithiviraj Karupaya",
      "userId": "01950334870233105663"
     },
     "user_tz": -330
    },
    "id": "2_I63u84JjCn",
    "outputId": "0f27f4bf-3f9c-49ce-ae86-5d2516d533d5"
   },
   "outputs": [
    {
     "name": "stdout",
     "output_type": "stream",
     "text": [
      "Model: \"sequential_1\"\n",
      "_________________________________________________________________\n",
      " Layer (type)                Output Shape              Param #   \n",
      "=================================================================\n",
      " efficientnetb3 (Functional  (None, 1536)              10783535  \n",
      " )                                                               \n",
      "                                                                 \n",
      " dense_2 (Dense)             (None, 256)               393472    \n",
      "                                                                 \n",
      " dropout_1 (Dropout)         (None, 256)               0         \n",
      "                                                                 \n",
      " dense_3 (Dense)             (None, 2)                 514       \n",
      "                                                                 \n",
      "=================================================================\n",
      "Total params: 11177521 (42.64 MB)\n",
      "Trainable params: 986882 (3.76 MB)\n",
      "Non-trainable params: 10190639 (38.87 MB)\n",
      "_________________________________________________________________\n"
     ]
    }
   ],
   "source": [
    "# Compile the EfficientNetB3 model\n",
    "model.compile(Adamax(learning_rate=0.001), loss='categorical_crossentropy', metrics=['accuracy'])\n",
    "\n",
    "# Display the summary of the EfficientNetB3 model\n",
    "model.summary()"
   ]
  },
  {
   "cell_type": "code",
   "execution_count": 22,
   "metadata": {
    "colab": {
     "base_uri": "https://localhost:8080/"
    },
    "executionInfo": {
     "elapsed": 1281503,
     "status": "ok",
     "timestamp": 1709287067183,
     "user": {
      "displayName": "Prithiviraj Karupaya",
      "userId": "01950334870233105663"
     },
     "user_tz": -330
    },
    "id": "f7hFvdt-JlXY",
    "outputId": "500dfd07-a9c3-4f99-e050-1c5b95654199"
   },
   "outputs": [
    {
     "name": "stdout",
     "output_type": "stream",
     "text": [
      "Epoch 1/25\n",
      "165/165 [==============================] - 405s 2s/step - loss: 1.3034 - accuracy: 0.7664 - val_loss: 0.3728 - val_accuracy: 0.8212\n",
      "Epoch 2/25\n",
      "165/165 [==============================] - 422s 3s/step - loss: 0.4048 - accuracy: 0.8195 - val_loss: 0.3273 - val_accuracy: 0.8576\n",
      "Epoch 3/25\n",
      "165/165 [==============================] - 380s 2s/step - loss: 0.3581 - accuracy: 0.8426 - val_loss: 0.3378 - val_accuracy: 0.8606\n"
     ]
    }
   ],
   "source": [
    "# Train the EfficientNetB3 model\n",
    "history_efficientnetb3 = model.fit(x=tr_gen, epochs=25, verbose=1, validation_data=valid_gen, validation_steps=None, callbacks=EarlyStopping(monitor='val_loss'))"
   ]
  },
  {
   "cell_type": "code",
   "execution_count": 23,
   "metadata": {
    "colab": {
     "base_uri": "https://localhost:8080/"
    },
    "executionInfo": {
     "elapsed": 501582,
     "status": "ok",
     "timestamp": 1709287946709,
     "user": {
      "displayName": "Prithiviraj Karupaya",
      "userId": "01950334870233105663"
     },
     "user_tz": -330
    },
    "id": "oHYbxKieJpHh",
    "outputId": "4c3c6795-aa30-4475-ca52-75f279fe614c"
   },
   "outputs": [
    {
     "name": "stdout",
     "output_type": "stream",
     "text": [
      "165/165 [==============================] - 333s 2s/step - loss: 0.2571 - accuracy: 0.8878\n",
      "21/21 [==============================] - 43s 2s/step - loss: 0.3378 - accuracy: 0.8606\n",
      "21/21 [==============================] - 42s 2s/step - loss: 0.3515 - accuracy: 0.8333\n"
     ]
    }
   ],
   "source": [
    "# Evaluate the EfficientNetB3 model\n",
    "train_score_efficientnetb3 = model.evaluate(tr_gen, verbose=1)\n",
    "valid_score_efficientnetb3 = model.evaluate(valid_gen, verbose=1)\n",
    "test_score_efficientnetb3 = model.evaluate(ts_gen, verbose=1)"
   ]
  },
  {
   "cell_type": "code",
   "execution_count": 24,
   "metadata": {
    "colab": {
     "base_uri": "https://localhost:8080/"
    },
    "executionInfo": {
     "elapsed": 1155,
     "status": "ok",
     "timestamp": 1709288074870,
     "user": {
      "displayName": "Prithiviraj Karupaya",
      "userId": "01950334870233105663"
     },
     "user_tz": -330
    },
    "id": "XXRVCV1BJr7h",
    "outputId": "aa48374f-f295-4cee-b5a2-a04e3e2dc81d"
   },
   "outputs": [
    {
     "name": "stdout",
     "output_type": "stream",
     "text": [
      "EfficientNetB3 Train Loss:  0.25710639357566833\n",
      "EfficientNetB3 Train Accuracy:  0.8877512216567993\n",
      "--------------------\n",
      "EfficientNetB3 Validation Loss:  0.3377724289894104\n",
      "EfficientNetB3 Validation Accuracy:  0.8606060743331909\n",
      "--------------------\n",
      "EfficientNetB3 Test Loss:  0.3514803946018219\n",
      "EfficientNetB3 Test Accuracy:  0.8333333134651184\n"
     ]
    }
   ],
   "source": [
    "# Print the evaluation scores for EfficientNetB3\n",
    "print(\"EfficientNetB3 Train Loss: \", train_score_efficientnetb3[0])\n",
    "print(\"EfficientNetB3 Train Accuracy: \", train_score_efficientnetb3[1])\n",
    "print('-' * 20)\n",
    "print(\"EfficientNetB3 Validation Loss: \", valid_score_efficientnetb3[0])\n",
    "print(\"EfficientNetB3 Validation Accuracy: \", valid_score_efficientnetb3[1])\n",
    "print('-' * 20)\n",
    "print(\"EfficientNetB3 Test Loss: \", test_score_efficientnetb3[0])\n",
    "print(\"EfficientNetB3 Test Accuracy: \", test_score_efficientnetb3[1])"
   ]
  },
  {
   "cell_type": "code",
   "execution_count": 25,
   "metadata": {
    "colab": {
     "base_uri": "https://localhost:8080/",
     "height": 581
    },
    "executionInfo": {
     "elapsed": 1188,
     "status": "ok",
     "timestamp": 1709288080767,
     "user": {
      "displayName": "Prithiviraj Karupaya",
      "userId": "01950334870233105663"
     },
     "user_tz": -330
    },
    "id": "qDe81LExJuWY",
    "outputId": "f6ab23d9-46ce-4e78-ac9a-30d549c3d830"
   },
   "outputs": [
    {
     "data": {
      "text/plain": [
       "<matplotlib.legend.Legend at 0x7d4738385ff0>"
      ]
     },
     "execution_count": 25,
     "metadata": {},
     "output_type": "execute_result"
    },
    {
     "data": {
      "image/png": "[encoded data removed]",
      "text/plain": [
       "<Figure size 1200x600 with 1 Axes>"
      ]
     },
     "metadata": {},
     "output_type": "display_data"
    }
   ],
   "source": [
    "# Plotting the comparison\n",
    "plt.figure(figsize=(12, 6))\n",
    "plt.subplot(1, 2, 1)\n",
    "plt.plot(history_efficientnetb3.history['accuracy'], label='EfficientNetB3')\n",
    "plt.plot(history_cnn.history['accuracy'], label='CNN')\n",
    "plt.title('Test Accuracy Comparison')\n",
    "plt.xlabel('Epoch')\n",
    "plt.ylabel('Accuracy')\n",
    "plt.legend()"
   ]
  },
  {
   "cell_type": "code",
   "execution_count": 27,
   "metadata": {
    "executionInfo": {
     "elapsed": 3194,
     "status": "ok",
     "timestamp": 1709291833109,
     "user": {
      "displayName": "Prithiviraj Karupaya",
      "userId": "01950334870233105663"
     },
     "user_tz": -330
    },
    "id": "WPAABhHitYc5"
   },
   "outputs": [],
   "source": [
    "from keras.models import load_model\n",
    "model.save(\"skin_cancer_network.h5\")\n",
    "model.save(\"skin_cancer_network.keras\")"
   ]
  }
 ],
 "metadata": {
  "colab": {
   "authorship_tag": "ABX9TyNSTB4i6M6exPGd775U9Mm+",
   "mount_file_id": "1nAWTQOd_N2kVADCrZXgTjLfb8q8YJXxk",
   "provenance": []
  },
  "kernelspec": {
   "display_name": "Python 3 (ipykernel)",
   "language": "python",
   "name": "python3"
  },
  "language_info": {
   "codemirror_mode": {
    "name": "ipython",
    "version": 3
   },
   "file_extension": ".py",
   "mimetype": "text/x-python",
   "name": "python",
   "nbconvert_exporter": "python",
   "pygments_lexer": "ipython3",
   "version": "3.11.4"
  }
 },
 "nbformat": 4,
 "nbformat_minor": 1
}
